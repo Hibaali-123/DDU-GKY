{
 "cells": [
  {
   "cell_type": "markdown",
   "id": "7bf54529",
   "metadata": {},
   "source": [
    "## Constants in SciPy"
   ]
  },
  {
   "cell_type": "code",
   "execution_count": 1,
   "id": "5c99714b",
   "metadata": {},
   "outputs": [],
   "source": [
    "from scipy import constants\n",
    "import numpy as np"
   ]
  },
  {
   "cell_type": "code",
   "execution_count": 2,
   "id": "c6f0c47b",
   "metadata": {},
   "outputs": [
    {
     "data": {
      "text/plain": [
       "3.141592653589793"
      ]
     },
     "execution_count": 2,
     "metadata": {},
     "output_type": "execute_result"
    }
   ],
   "source": [
    "constants.pi"
   ]
  },
  {
   "cell_type": "code",
   "execution_count": 3,
   "id": "cae748c6",
   "metadata": {},
   "outputs": [
    {
     "name": "stdout",
     "output_type": "stream",
     "text": [
      "['Avogadro', 'Boltzmann', 'Btu', 'Btu_IT', 'Btu_th', 'ConstantWarning', 'G', 'Julian_year', 'N_A', 'Planck', 'R', 'Rydberg', 'Stefan_Boltzmann', 'Wien', '__all__', '__builtins__', '__cached__', '__doc__', '__file__', '__loader__', '__name__', '__package__', '__path__', '__spec__', '_codata', '_constants', '_obsolete_constants', 'acre', 'alpha', 'angstrom', 'arcmin', 'arcminute', 'arcsec', 'arcsecond', 'astronomical_unit', 'atm', 'atmosphere', 'atomic_mass', 'atto', 'au', 'bar', 'barrel', 'bbl', 'blob', 'c', 'calorie', 'calorie_IT', 'calorie_th', 'carat', 'centi', 'codata', 'constants', 'convert_temperature', 'day', 'deci', 'degree', 'degree_Fahrenheit', 'deka', 'dyn', 'dyne', 'e', 'eV', 'electron_mass', 'electron_volt', 'elementary_charge', 'epsilon_0', 'erg', 'exa', 'exbi', 'femto', 'fermi', 'find', 'fine_structure', 'fluid_ounce', 'fluid_ounce_US', 'fluid_ounce_imp', 'foot', 'g', 'gallon', 'gallon_US', 'gallon_imp', 'gas_constant', 'gibi', 'giga', 'golden', 'golden_ratio', 'grain', 'gram', 'gravitational_constant', 'h', 'hbar', 'hectare', 'hecto', 'horsepower', 'hour', 'hp', 'inch', 'k', 'kgf', 'kibi', 'kilo', 'kilogram_force', 'kmh', 'knot', 'lambda2nu', 'lb', 'lbf', 'light_year', 'liter', 'litre', 'long_ton', 'm_e', 'm_n', 'm_p', 'm_u', 'mach', 'mebi', 'mega', 'metric_ton', 'micro', 'micron', 'mil', 'mile', 'milli', 'minute', 'mmHg', 'mph', 'mu_0', 'nano', 'nautical_mile', 'neutron_mass', 'nu2lambda', 'ounce', 'oz', 'parsec', 'pebi', 'peta', 'physical_constants', 'pi', 'pico', 'point', 'pound', 'pound_force', 'precision', 'proton_mass', 'psi', 'pt', 'short_ton', 'sigma', 'slinch', 'slug', 'speed_of_light', 'speed_of_sound', 'stone', 'survey_foot', 'survey_mile', 'tebi', 'tera', 'test', 'ton_TNT', 'torr', 'troy_ounce', 'troy_pound', 'u', 'unit', 'value', 'week', 'yard', 'year', 'yobi', 'yocto', 'yotta', 'zebi', 'zepto', 'zero_Celsius', 'zetta']\n"
     ]
    }
   ],
   "source": [
    "print(dir(constants))"
   ]
  },
  {
   "cell_type": "markdown",
   "id": "d973f792",
   "metadata": {},
   "source": [
    "## Unit categories"
   ]
  },
  {
   "cell_type": "markdown",
   "id": "aea1022f",
   "metadata": {},
   "source": [
    "### Metric Prefixes\n",
    "Return the specified unit in meter (e.g. cent i returns 0.0 1 )"
   ]
  },
  {
   "cell_type": "code",
   "execution_count": 4,
   "id": "f89c7765",
   "metadata": {},
   "outputs": [
    {
     "data": {
      "text/plain": [
       "1e+24"
      ]
     },
     "execution_count": 4,
     "metadata": {},
     "output_type": "execute_result"
    }
   ],
   "source": [
    "constants.yotta"
   ]
  },
  {
   "cell_type": "code",
   "execution_count": 5,
   "id": "e59db132",
   "metadata": {},
   "outputs": [
    {
     "data": {
      "text/plain": [
       "1000000000000000.0"
      ]
     },
     "execution_count": 5,
     "metadata": {},
     "output_type": "execute_result"
    }
   ],
   "source": [
    "constants.peta"
   ]
  },
  {
   "cell_type": "code",
   "execution_count": 6,
   "id": "d83a6e8e",
   "metadata": {},
   "outputs": [
    {
     "data": {
      "text/plain": [
       "1000000.0"
      ]
     },
     "execution_count": 6,
     "metadata": {},
     "output_type": "execute_result"
    }
   ],
   "source": [
    "constants.mega"
   ]
  },
  {
   "cell_type": "code",
   "execution_count": 7,
   "id": "1fc5df68",
   "metadata": {},
   "outputs": [
    {
     "data": {
      "text/plain": [
       "1000000000.0"
      ]
     },
     "execution_count": 7,
     "metadata": {},
     "output_type": "execute_result"
    }
   ],
   "source": [
    "constants.giga"
   ]
  },
  {
   "cell_type": "code",
   "execution_count": 8,
   "id": "ee91d8ef",
   "metadata": {},
   "outputs": [
    {
     "data": {
      "text/plain": [
       "1000000000000.0"
      ]
     },
     "execution_count": 8,
     "metadata": {},
     "output_type": "execute_result"
    }
   ],
   "source": [
    "constants.tera"
   ]
  },
  {
   "cell_type": "code",
   "execution_count": 9,
   "id": "fab02a48",
   "metadata": {},
   "outputs": [
    {
     "data": {
      "text/plain": [
       "1000.0"
      ]
     },
     "execution_count": 9,
     "metadata": {},
     "output_type": "execute_result"
    }
   ],
   "source": [
    "constants.kilo"
   ]
  },
  {
   "cell_type": "code",
   "execution_count": 10,
   "id": "3bf16a98",
   "metadata": {},
   "outputs": [
    {
     "data": {
      "text/plain": [
       "1e-12"
      ]
     },
     "execution_count": 10,
     "metadata": {},
     "output_type": "execute_result"
    }
   ],
   "source": [
    "constants.pico"
   ]
  },
  {
   "cell_type": "code",
   "execution_count": 11,
   "id": "16e8ee72",
   "metadata": {},
   "outputs": [
    {
     "data": {
      "text/plain": [
       "0.001"
      ]
     },
     "execution_count": 11,
     "metadata": {},
     "output_type": "execute_result"
    }
   ],
   "source": [
    "constants.milli"
   ]
  },
  {
   "cell_type": "code",
   "execution_count": 12,
   "id": "f580e2e9",
   "metadata": {},
   "outputs": [
    {
     "data": {
      "text/plain": [
       "1e-06"
      ]
     },
     "execution_count": 12,
     "metadata": {},
     "output_type": "execute_result"
    }
   ],
   "source": [
    "constants.micro"
   ]
  },
  {
   "cell_type": "markdown",
   "id": "6102ab2b",
   "metadata": {},
   "source": [
    "## Binary Prefixes\n",
    "Return the specified unit in bytes (e.g. kibi returns 1024 )"
   ]
  },
  {
   "cell_type": "code",
   "execution_count": 13,
   "id": "c8e3cc43",
   "metadata": {},
   "outputs": [
    {
     "data": {
      "text/plain": [
       "1024"
      ]
     },
     "execution_count": 13,
     "metadata": {},
     "output_type": "execute_result"
    }
   ],
   "source": [
    "constants.kibi"
   ]
  },
  {
   "cell_type": "code",
   "execution_count": 14,
   "id": "05d4ce10",
   "metadata": {},
   "outputs": [
    {
     "data": {
      "text/plain": [
       "1048576"
      ]
     },
     "execution_count": 14,
     "metadata": {},
     "output_type": "execute_result"
    }
   ],
   "source": [
    "constants.mebi"
   ]
  },
  {
   "cell_type": "code",
   "execution_count": 15,
   "id": "e80e9811",
   "metadata": {},
   "outputs": [
    {
     "data": {
      "text/plain": [
       "1073741824"
      ]
     },
     "execution_count": 15,
     "metadata": {},
     "output_type": "execute_result"
    }
   ],
   "source": [
    "constants.gibi"
   ]
  },
  {
   "cell_type": "code",
   "execution_count": 16,
   "id": "2bfbbde5",
   "metadata": {},
   "outputs": [
    {
     "data": {
      "text/plain": [
       "1099511627776"
      ]
     },
     "execution_count": 16,
     "metadata": {},
     "output_type": "execute_result"
    }
   ],
   "source": [
    "constants.tebi"
   ]
  },
  {
   "cell_type": "code",
   "execution_count": 17,
   "id": "1708ecff",
   "metadata": {},
   "outputs": [
    {
     "data": {
      "text/plain": [
       "1125899906842624"
      ]
     },
     "execution_count": 17,
     "metadata": {},
     "output_type": "execute_result"
    }
   ],
   "source": [
    "constants.pebi"
   ]
  },
  {
   "cell_type": "code",
   "execution_count": 18,
   "id": "ec73d9c2",
   "metadata": {},
   "outputs": [
    {
     "data": {
      "text/plain": [
       "1180591620717411303424"
      ]
     },
     "execution_count": 18,
     "metadata": {},
     "output_type": "execute_result"
    }
   ],
   "source": [
    "constants.zebi"
   ]
  },
  {
   "cell_type": "code",
   "execution_count": 19,
   "id": "aaaf76a5",
   "metadata": {},
   "outputs": [
    {
     "data": {
      "text/plain": [
       "1152921504606846976"
      ]
     },
     "execution_count": 19,
     "metadata": {},
     "output_type": "execute_result"
    }
   ],
   "source": [
    "constants.exbi"
   ]
  },
  {
   "cell_type": "code",
   "execution_count": 20,
   "id": "3df6aab9",
   "metadata": {},
   "outputs": [
    {
     "data": {
      "text/plain": [
       "1208925819614629174706176"
      ]
     },
     "execution_count": 20,
     "metadata": {},
     "output_type": "execute_result"
    }
   ],
   "source": [
    "constants.yobi"
   ]
  },
  {
   "cell_type": "markdown",
   "id": "53ca6552",
   "metadata": {},
   "source": [
    "## Mass\n",
    "Return the specified unit in kg (e.g. gram returns 0.001 )"
   ]
  },
  {
   "cell_type": "code",
   "execution_count": 21,
   "id": "fce61367",
   "metadata": {},
   "outputs": [
    {
     "data": {
      "text/plain": [
       "0.001"
      ]
     },
     "execution_count": 21,
     "metadata": {},
     "output_type": "execute_result"
    }
   ],
   "source": [
    "constants.gram"
   ]
  },
  {
   "cell_type": "code",
   "execution_count": 22,
   "id": "259f95dd",
   "metadata": {},
   "outputs": [
    {
     "data": {
      "text/plain": [
       "1000.0"
      ]
     },
     "execution_count": 22,
     "metadata": {},
     "output_type": "execute_result"
    }
   ],
   "source": [
    "constants.metric_ton"
   ]
  },
  {
   "cell_type": "code",
   "execution_count": 23,
   "id": "02271aa1",
   "metadata": {},
   "outputs": [
    {
     "data": {
      "text/plain": [
       "6.479891e-05"
      ]
     },
     "execution_count": 23,
     "metadata": {},
     "output_type": "execute_result"
    }
   ],
   "source": [
    "constants.grain"
   ]
  },
  {
   "cell_type": "code",
   "execution_count": 24,
   "id": "c7e32f69",
   "metadata": {},
   "outputs": [
    {
     "name": "stdout",
     "output_type": "stream",
     "text": [
      "0.45359236999999997\n"
     ]
    }
   ],
   "source": [
    "print(constants.lb)"
   ]
  },
  {
   "cell_type": "code",
   "execution_count": 25,
   "id": "27239ba7",
   "metadata": {},
   "outputs": [
    {
     "name": "stdout",
     "output_type": "stream",
     "text": [
      "0.45359236999999997\n"
     ]
    }
   ],
   "source": [
    "print(constants.pound)"
   ]
  },
  {
   "cell_type": "code",
   "execution_count": 26,
   "id": "9cdb8d63",
   "metadata": {},
   "outputs": [
    {
     "name": "stdout",
     "output_type": "stream",
     "text": [
      "0.028349523124999998\n"
     ]
    }
   ],
   "source": [
    "print(constants.oz)"
   ]
  },
  {
   "cell_type": "code",
   "execution_count": 27,
   "id": "5a629856",
   "metadata": {},
   "outputs": [
    {
     "name": "stdout",
     "output_type": "stream",
     "text": [
      "0.028349523124999998\n"
     ]
    }
   ],
   "source": [
    "print(constants.ounce)"
   ]
  },
  {
   "cell_type": "code",
   "execution_count": 28,
   "id": "b2d1bc22",
   "metadata": {},
   "outputs": [
    {
     "data": {
      "text/plain": [
       "6.3502931799999995"
      ]
     },
     "execution_count": 28,
     "metadata": {},
     "output_type": "execute_result"
    }
   ],
   "source": [
    "constants.stone"
   ]
  },
  {
   "cell_type": "code",
   "execution_count": 29,
   "id": "93ed97c2",
   "metadata": {},
   "outputs": [
    {
     "data": {
      "text/plain": [
       "1016.0469088"
      ]
     },
     "execution_count": 29,
     "metadata": {},
     "output_type": "execute_result"
    }
   ],
   "source": [
    "constants.long_ton"
   ]
  },
  {
   "cell_type": "code",
   "execution_count": 30,
   "id": "30f0f3e5",
   "metadata": {},
   "outputs": [
    {
     "data": {
      "text/plain": [
       "907.1847399999999"
      ]
     },
     "execution_count": 30,
     "metadata": {},
     "output_type": "execute_result"
    }
   ],
   "source": [
    "constants.short_ton"
   ]
  },
  {
   "cell_type": "code",
   "execution_count": 31,
   "id": "d91cae59",
   "metadata": {},
   "outputs": [
    {
     "data": {
      "text/plain": [
       "0.031103476799999998"
      ]
     },
     "execution_count": 31,
     "metadata": {},
     "output_type": "execute_result"
    }
   ],
   "source": [
    "constants.troy_ounce"
   ]
  },
  {
   "cell_type": "code",
   "execution_count": 32,
   "id": "53794f5b",
   "metadata": {},
   "outputs": [
    {
     "data": {
      "text/plain": [
       "0.37324172159999996"
      ]
     },
     "execution_count": 32,
     "metadata": {},
     "output_type": "execute_result"
    }
   ],
   "source": [
    "constants.troy_pound"
   ]
  },
  {
   "cell_type": "code",
   "execution_count": 33,
   "id": "615d44b1",
   "metadata": {},
   "outputs": [
    {
     "data": {
      "text/plain": [
       "0.0002"
      ]
     },
     "execution_count": 33,
     "metadata": {},
     "output_type": "execute_result"
    }
   ],
   "source": [
    "constants.carat"
   ]
  },
  {
   "cell_type": "code",
   "execution_count": 34,
   "id": "de317917",
   "metadata": {},
   "outputs": [
    {
     "data": {
      "text/plain": [
       "1.6605390666e-27"
      ]
     },
     "execution_count": 34,
     "metadata": {},
     "output_type": "execute_result"
    }
   ],
   "source": [
    "constants.atomic_mass"
   ]
  },
  {
   "cell_type": "code",
   "execution_count": 35,
   "id": "beafaf86",
   "metadata": {},
   "outputs": [
    {
     "data": {
      "text/plain": [
       "1.6605390666e-27"
      ]
     },
     "execution_count": 35,
     "metadata": {},
     "output_type": "execute_result"
    }
   ],
   "source": [
    "constants.m_u"
   ]
  },
  {
   "cell_type": "code",
   "execution_count": 36,
   "id": "2359d9b3",
   "metadata": {},
   "outputs": [
    {
     "data": {
      "text/plain": [
       "1.6605390666e-27"
      ]
     },
     "execution_count": 36,
     "metadata": {},
     "output_type": "execute_result"
    }
   ],
   "source": [
    "constants.u"
   ]
  },
  {
   "cell_type": "markdown",
   "id": "53c12c84",
   "metadata": {},
   "source": [
    "## Angle\n",
    "Return the specified unit in radians (e.g. degre e returns 0.01745329251994329 5 )"
   ]
  },
  {
   "cell_type": "code",
   "execution_count": 37,
   "id": "6b682ab8",
   "metadata": {},
   "outputs": [
    {
     "data": {
      "text/plain": [
       "0.0002908882086657216"
      ]
     },
     "execution_count": 37,
     "metadata": {},
     "output_type": "execute_result"
    }
   ],
   "source": [
    "constants.arcmin"
   ]
  },
  {
   "cell_type": "code",
   "execution_count": 38,
   "id": "4963ba8d",
   "metadata": {},
   "outputs": [
    {
     "data": {
      "text/plain": [
       "4.84813681109536e-06"
      ]
     },
     "execution_count": 38,
     "metadata": {},
     "output_type": "execute_result"
    }
   ],
   "source": [
    "constants.arcsecond"
   ]
  },
  {
   "cell_type": "code",
   "execution_count": 39,
   "id": "4fc80b0b",
   "metadata": {},
   "outputs": [
    {
     "data": {
      "text/plain": [
       "0.017453292519943295"
      ]
     },
     "execution_count": 39,
     "metadata": {},
     "output_type": "execute_result"
    }
   ],
   "source": [
    "constants.degree"
   ]
  },
  {
   "cell_type": "code",
   "execution_count": 40,
   "id": "885c6909",
   "metadata": {},
   "outputs": [
    {
     "data": {
      "text/plain": [
       "4.84813681109536e-06"
      ]
     },
     "execution_count": 40,
     "metadata": {},
     "output_type": "execute_result"
    }
   ],
   "source": [
    "constants.arcsec"
   ]
  },
  {
   "cell_type": "code",
   "execution_count": 41,
   "id": "fcabca47",
   "metadata": {},
   "outputs": [
    {
     "data": {
      "text/plain": [
       "0.0002908882086657216"
      ]
     },
     "execution_count": 41,
     "metadata": {},
     "output_type": "execute_result"
    }
   ],
   "source": [
    "constants.arcminute"
   ]
  },
  {
   "cell_type": "markdown",
   "id": "2d6bed38",
   "metadata": {},
   "source": [
    "## Time\n",
    "Return the specified unit in seconds (e.g. hou r returns 3600. 0 )"
   ]
  },
  {
   "cell_type": "code",
   "execution_count": 42,
   "id": "a3e76b73",
   "metadata": {},
   "outputs": [
    {
     "data": {
      "text/plain": [
       "60.0"
      ]
     },
     "execution_count": 42,
     "metadata": {},
     "output_type": "execute_result"
    }
   ],
   "source": [
    "constants.minute"
   ]
  },
  {
   "cell_type": "code",
   "execution_count": 43,
   "id": "cf9bbf60",
   "metadata": {},
   "outputs": [
    {
     "data": {
      "text/plain": [
       "3600.0"
      ]
     },
     "execution_count": 43,
     "metadata": {},
     "output_type": "execute_result"
    }
   ],
   "source": [
    "constants.hour"
   ]
  },
  {
   "cell_type": "code",
   "execution_count": 44,
   "id": "80dda33b",
   "metadata": {},
   "outputs": [
    {
     "data": {
      "text/plain": [
       "604800.0"
      ]
     },
     "execution_count": 44,
     "metadata": {},
     "output_type": "execute_result"
    }
   ],
   "source": [
    "constants.week"
   ]
  },
  {
   "cell_type": "code",
   "execution_count": 45,
   "id": "4e804e20",
   "metadata": {},
   "outputs": [
    {
     "data": {
      "text/plain": [
       "86400.0"
      ]
     },
     "execution_count": 45,
     "metadata": {},
     "output_type": "execute_result"
    }
   ],
   "source": [
    "constants.day"
   ]
  },
  {
   "cell_type": "code",
   "execution_count": 46,
   "id": "da57e856",
   "metadata": {},
   "outputs": [
    {
     "data": {
      "text/plain": [
       "31536000.0"
      ]
     },
     "execution_count": 46,
     "metadata": {},
     "output_type": "execute_result"
    }
   ],
   "source": [
    "constants.year"
   ]
  },
  {
   "cell_type": "code",
   "execution_count": 47,
   "id": "df4371dd",
   "metadata": {},
   "outputs": [
    {
     "data": {
      "text/plain": [
       "31557600.0"
      ]
     },
     "execution_count": 47,
     "metadata": {},
     "output_type": "execute_result"
    }
   ],
   "source": [
    "constants.Julian_year"
   ]
  },
  {
   "cell_type": "markdown",
   "id": "82f348c2",
   "metadata": {},
   "source": [
    "##  Length\n",
    "Return the specified unit in meters (e.g. nautical_mile returns 1852.0 )"
   ]
  },
  {
   "cell_type": "code",
   "execution_count": 48,
   "id": "49d47e0c",
   "metadata": {},
   "outputs": [
    {
     "data": {
      "text/plain": [
       "0.0254"
      ]
     },
     "execution_count": 48,
     "metadata": {},
     "output_type": "execute_result"
    }
   ],
   "source": [
    "constants.inch"
   ]
  },
  {
   "cell_type": "code",
   "execution_count": 49,
   "id": "c5a1f2fb",
   "metadata": {},
   "outputs": [
    {
     "data": {
      "text/plain": [
       "0.30479999999999996"
      ]
     },
     "execution_count": 49,
     "metadata": {},
     "output_type": "execute_result"
    }
   ],
   "source": [
    "constants.foot"
   ]
  },
  {
   "cell_type": "code",
   "execution_count": 50,
   "id": "70d91b37",
   "metadata": {},
   "outputs": [
    {
     "data": {
      "text/plain": [
       "0.9143999999999999"
      ]
     },
     "execution_count": 50,
     "metadata": {},
     "output_type": "execute_result"
    }
   ],
   "source": [
    "constants.yard"
   ]
  },
  {
   "cell_type": "code",
   "execution_count": 51,
   "id": "7aeaa913",
   "metadata": {},
   "outputs": [
    {
     "data": {
      "text/plain": [
       "1609.3439999999998"
      ]
     },
     "execution_count": 51,
     "metadata": {},
     "output_type": "execute_result"
    }
   ],
   "source": [
    "constants.mile"
   ]
  },
  {
   "cell_type": "code",
   "execution_count": 52,
   "id": "f46854d2",
   "metadata": {},
   "outputs": [
    {
     "data": {
      "text/plain": [
       "2.5399999999999997e-05"
      ]
     },
     "execution_count": 52,
     "metadata": {},
     "output_type": "execute_result"
    }
   ],
   "source": [
    "constants.mil"
   ]
  },
  {
   "cell_type": "code",
   "execution_count": 53,
   "id": "cc37f37d",
   "metadata": {},
   "outputs": [
    {
     "data": {
      "text/plain": [
       "0.00035277777777777776"
      ]
     },
     "execution_count": 53,
     "metadata": {},
     "output_type": "execute_result"
    }
   ],
   "source": [
    "constants.pt"
   ]
  },
  {
   "cell_type": "code",
   "execution_count": 54,
   "id": "30b3078e",
   "metadata": {},
   "outputs": [
    {
     "data": {
      "text/plain": [
       "0.00035277777777777776"
      ]
     },
     "execution_count": 54,
     "metadata": {},
     "output_type": "execute_result"
    }
   ],
   "source": [
    "constants.point"
   ]
  },
  {
   "cell_type": "code",
   "execution_count": 55,
   "id": "7da9ec48",
   "metadata": {},
   "outputs": [
    {
     "data": {
      "text/plain": [
       "0.3048006096012192"
      ]
     },
     "execution_count": 55,
     "metadata": {},
     "output_type": "execute_result"
    }
   ],
   "source": [
    "constants.survey_foot"
   ]
  },
  {
   "cell_type": "code",
   "execution_count": 56,
   "id": "051488a3",
   "metadata": {},
   "outputs": [
    {
     "data": {
      "text/plain": [
       "1609.3472186944373"
      ]
     },
     "execution_count": 56,
     "metadata": {},
     "output_type": "execute_result"
    }
   ],
   "source": [
    "constants.survey_mile"
   ]
  },
  {
   "cell_type": "code",
   "execution_count": 57,
   "id": "c627e88a",
   "metadata": {},
   "outputs": [
    {
     "data": {
      "text/plain": [
       "1852.0"
      ]
     },
     "execution_count": 57,
     "metadata": {},
     "output_type": "execute_result"
    }
   ],
   "source": [
    "constants.nautical_mile"
   ]
  },
  {
   "cell_type": "code",
   "execution_count": 58,
   "id": "8fcd02d7",
   "metadata": {},
   "outputs": [
    {
     "data": {
      "text/plain": [
       "1e-15"
      ]
     },
     "execution_count": 58,
     "metadata": {},
     "output_type": "execute_result"
    }
   ],
   "source": [
    "constants.fermi"
   ]
  },
  {
   "cell_type": "code",
   "execution_count": 59,
   "id": "0538ff44",
   "metadata": {},
   "outputs": [
    {
     "data": {
      "text/plain": [
       "1e-10"
      ]
     },
     "execution_count": 59,
     "metadata": {},
     "output_type": "execute_result"
    }
   ],
   "source": [
    "constants.angstrom"
   ]
  },
  {
   "cell_type": "code",
   "execution_count": 60,
   "id": "a7d55528",
   "metadata": {},
   "outputs": [
    {
     "data": {
      "text/plain": [
       "1e-06"
      ]
     },
     "execution_count": 60,
     "metadata": {},
     "output_type": "execute_result"
    }
   ],
   "source": [
    "constants.micro"
   ]
  },
  {
   "cell_type": "code",
   "execution_count": 61,
   "id": "d9e3de00",
   "metadata": {},
   "outputs": [
    {
     "data": {
      "text/plain": [
       "149597870700.0"
      ]
     },
     "execution_count": 61,
     "metadata": {},
     "output_type": "execute_result"
    }
   ],
   "source": [
    "constants.au"
   ]
  },
  {
   "cell_type": "code",
   "execution_count": 62,
   "id": "86b450c4",
   "metadata": {},
   "outputs": [
    {
     "data": {
      "text/plain": [
       "149597870700.0"
      ]
     },
     "execution_count": 62,
     "metadata": {},
     "output_type": "execute_result"
    }
   ],
   "source": [
    "constants.astronomical_unit"
   ]
  },
  {
   "cell_type": "code",
   "execution_count": 63,
   "id": "4c4bd5a7",
   "metadata": {},
   "outputs": [
    {
     "data": {
      "text/plain": [
       "9460730472580800.0"
      ]
     },
     "execution_count": 63,
     "metadata": {},
     "output_type": "execute_result"
    }
   ],
   "source": [
    "constants.light_year"
   ]
  },
  {
   "cell_type": "code",
   "execution_count": 64,
   "id": "d5f9e491",
   "metadata": {},
   "outputs": [
    {
     "data": {
      "text/plain": [
       "3.085677581491367e+16"
      ]
     },
     "execution_count": 64,
     "metadata": {},
     "output_type": "execute_result"
    }
   ],
   "source": [
    "constants.parsec"
   ]
  },
  {
   "cell_type": "markdown",
   "id": "e0c518df",
   "metadata": {},
   "source": [
    "## Pressure\n",
    "Return the specified unit in pascals (e.g. psi returns 6894.757293168361)"
   ]
  },
  {
   "cell_type": "code",
   "execution_count": 65,
   "id": "39edec2e",
   "metadata": {},
   "outputs": [
    {
     "data": {
      "text/plain": [
       "101325.0"
      ]
     },
     "execution_count": 65,
     "metadata": {},
     "output_type": "execute_result"
    }
   ],
   "source": [
    "constants.atm"
   ]
  },
  {
   "cell_type": "code",
   "execution_count": 66,
   "id": "dda0c4aa",
   "metadata": {},
   "outputs": [
    {
     "data": {
      "text/plain": [
       "101325.0"
      ]
     },
     "execution_count": 66,
     "metadata": {},
     "output_type": "execute_result"
    }
   ],
   "source": [
    "constants.atmosphere"
   ]
  },
  {
   "cell_type": "code",
   "execution_count": 67,
   "id": "c5cde164",
   "metadata": {},
   "outputs": [
    {
     "data": {
      "text/plain": [
       "100000.0"
      ]
     },
     "execution_count": 67,
     "metadata": {},
     "output_type": "execute_result"
    }
   ],
   "source": [
    "constants.bar"
   ]
  },
  {
   "cell_type": "code",
   "execution_count": 68,
   "id": "c739e0ca",
   "metadata": {},
   "outputs": [
    {
     "data": {
      "text/plain": [
       "133.32236842105263"
      ]
     },
     "execution_count": 68,
     "metadata": {},
     "output_type": "execute_result"
    }
   ],
   "source": [
    "constants.torr"
   ]
  },
  {
   "cell_type": "code",
   "execution_count": 69,
   "id": "ff73d664",
   "metadata": {},
   "outputs": [
    {
     "data": {
      "text/plain": [
       "133.32236842105263"
      ]
     },
     "execution_count": 69,
     "metadata": {},
     "output_type": "execute_result"
    }
   ],
   "source": [
    "constants.mmHg"
   ]
  },
  {
   "cell_type": "code",
   "execution_count": 70,
   "id": "b3dde411",
   "metadata": {},
   "outputs": [
    {
     "data": {
      "text/plain": [
       "6894.757293168361"
      ]
     },
     "execution_count": 70,
     "metadata": {},
     "output_type": "execute_result"
    }
   ],
   "source": [
    "constants.psi"
   ]
  },
  {
   "cell_type": "markdown",
   "id": "36797240",
   "metadata": {},
   "source": [
    "## Area"
   ]
  },
  {
   "cell_type": "code",
   "execution_count": 71,
   "id": "9bf0cd69",
   "metadata": {},
   "outputs": [
    {
     "data": {
      "text/plain": [
       "10000.0"
      ]
     },
     "execution_count": 71,
     "metadata": {},
     "output_type": "execute_result"
    }
   ],
   "source": [
    "constants.hectare"
   ]
  },
  {
   "cell_type": "code",
   "execution_count": 72,
   "id": "55327cbb",
   "metadata": {},
   "outputs": [
    {
     "data": {
      "text/plain": [
       "4046.8564223999992"
      ]
     },
     "execution_count": 72,
     "metadata": {},
     "output_type": "execute_result"
    }
   ],
   "source": [
    "constants.acre"
   ]
  },
  {
   "cell_type": "markdown",
   "id": "26443b3a",
   "metadata": {},
   "source": [
    "## Volume\n",
    "Return the specified unit in cubic meters (e.g. lite r returns 0.00 1 )"
   ]
  },
  {
   "cell_type": "code",
   "execution_count": 73,
   "id": "02ece583",
   "metadata": {},
   "outputs": [
    {
     "data": {
      "text/plain": [
       "0.001"
      ]
     },
     "execution_count": 73,
     "metadata": {},
     "output_type": "execute_result"
    }
   ],
   "source": [
    "constants.liter"
   ]
  },
  {
   "cell_type": "code",
   "execution_count": 74,
   "id": "c06c1627",
   "metadata": {},
   "outputs": [
    {
     "data": {
      "text/plain": [
       "0.001"
      ]
     },
     "execution_count": 74,
     "metadata": {},
     "output_type": "execute_result"
    }
   ],
   "source": [
    "constants.litre"
   ]
  },
  {
   "cell_type": "code",
   "execution_count": 75,
   "id": "f9728900",
   "metadata": {},
   "outputs": [
    {
     "data": {
      "text/plain": [
       "0.0037854117839999997"
      ]
     },
     "execution_count": 75,
     "metadata": {},
     "output_type": "execute_result"
    }
   ],
   "source": [
    "constants.gallon"
   ]
  },
  {
   "cell_type": "code",
   "execution_count": 76,
   "id": "027790f5",
   "metadata": {},
   "outputs": [
    {
     "data": {
      "text/plain": [
       "0.00454609"
      ]
     },
     "execution_count": 76,
     "metadata": {},
     "output_type": "execute_result"
    }
   ],
   "source": [
    "constants.gallon_imp"
   ]
  },
  {
   "cell_type": "code",
   "execution_count": 77,
   "id": "906f9c72",
   "metadata": {},
   "outputs": [
    {
     "data": {
      "text/plain": [
       "0.0037854117839999997"
      ]
     },
     "execution_count": 77,
     "metadata": {},
     "output_type": "execute_result"
    }
   ],
   "source": [
    "constants.gallon_US"
   ]
  },
  {
   "cell_type": "code",
   "execution_count": 78,
   "id": "452a42ef",
   "metadata": {},
   "outputs": [
    {
     "data": {
      "text/plain": [
       "2.9573529562499998e-05"
      ]
     },
     "execution_count": 78,
     "metadata": {},
     "output_type": "execute_result"
    }
   ],
   "source": [
    "constants.fluid_ounce"
   ]
  },
  {
   "cell_type": "code",
   "execution_count": 79,
   "id": "4e83db43",
   "metadata": {},
   "outputs": [
    {
     "data": {
      "text/plain": [
       "2.84130625e-05"
      ]
     },
     "execution_count": 79,
     "metadata": {},
     "output_type": "execute_result"
    }
   ],
   "source": [
    "constants.fluid_ounce_imp"
   ]
  },
  {
   "cell_type": "code",
   "execution_count": 80,
   "id": "3e4c0ee4",
   "metadata": {},
   "outputs": [
    {
     "data": {
      "text/plain": [
       "2.9573529562499998e-05"
      ]
     },
     "execution_count": 80,
     "metadata": {},
     "output_type": "execute_result"
    }
   ],
   "source": [
    "constants.fluid_ounce_US"
   ]
  },
  {
   "cell_type": "code",
   "execution_count": 81,
   "id": "0943ff22",
   "metadata": {},
   "outputs": [
    {
     "data": {
      "text/plain": [
       "0.15898729492799998"
      ]
     },
     "execution_count": 81,
     "metadata": {},
     "output_type": "execute_result"
    }
   ],
   "source": [
    "constants.barrel"
   ]
  },
  {
   "cell_type": "code",
   "execution_count": 82,
   "id": "a1de11d5",
   "metadata": {},
   "outputs": [
    {
     "data": {
      "text/plain": [
       "0.15898729492799998"
      ]
     },
     "execution_count": 82,
     "metadata": {},
     "output_type": "execute_result"
    }
   ],
   "source": [
    "constants.bbl"
   ]
  },
  {
   "cell_type": "markdown",
   "id": "5a00afca",
   "metadata": {},
   "source": [
    "## Speed\n",
    "Return the specified unit in meters per second (e.g. speed_of_sound returns 340.5)"
   ]
  },
  {
   "cell_type": "code",
   "execution_count": 83,
   "id": "fda02bd8",
   "metadata": {},
   "outputs": [
    {
     "data": {
      "text/plain": [
       "0.2777777777777778"
      ]
     },
     "execution_count": 83,
     "metadata": {},
     "output_type": "execute_result"
    }
   ],
   "source": [
    "constants.kmh"
   ]
  },
  {
   "cell_type": "code",
   "execution_count": 84,
   "id": "9e83f856",
   "metadata": {},
   "outputs": [
    {
     "data": {
      "text/plain": [
       "0.44703999999999994"
      ]
     },
     "execution_count": 84,
     "metadata": {},
     "output_type": "execute_result"
    }
   ],
   "source": [
    "constants.mph"
   ]
  },
  {
   "cell_type": "code",
   "execution_count": 85,
   "id": "bf348353",
   "metadata": {},
   "outputs": [
    {
     "data": {
      "text/plain": [
       "340.5"
      ]
     },
     "execution_count": 85,
     "metadata": {},
     "output_type": "execute_result"
    }
   ],
   "source": [
    "constants.mach"
   ]
  },
  {
   "cell_type": "code",
   "execution_count": 86,
   "id": "0e104017",
   "metadata": {},
   "outputs": [
    {
     "data": {
      "text/plain": [
       "340.5"
      ]
     },
     "execution_count": 86,
     "metadata": {},
     "output_type": "execute_result"
    }
   ],
   "source": [
    "constants.speed_of_sound"
   ]
  },
  {
   "cell_type": "code",
   "execution_count": 87,
   "id": "7ba53c0d",
   "metadata": {},
   "outputs": [
    {
     "data": {
      "text/plain": [
       "0.5144444444444445"
      ]
     },
     "execution_count": 87,
     "metadata": {},
     "output_type": "execute_result"
    }
   ],
   "source": [
    "constants.knot"
   ]
  },
  {
   "cell_type": "markdown",
   "id": "49e3c6fd",
   "metadata": {},
   "source": [
    "## Temperature\n",
    "Return the specified unit in Kelvin (e.g. zero_Celsiu s returns 273.15)"
   ]
  },
  {
   "cell_type": "code",
   "execution_count": 88,
   "id": "c15dfddb",
   "metadata": {},
   "outputs": [
    {
     "data": {
      "text/plain": [
       "273.15"
      ]
     },
     "execution_count": 88,
     "metadata": {},
     "output_type": "execute_result"
    }
   ],
   "source": [
    "constants.zero_Celsius"
   ]
  },
  {
   "cell_type": "code",
   "execution_count": 89,
   "id": "366c8d00",
   "metadata": {},
   "outputs": [
    {
     "data": {
      "text/plain": [
       "0.5555555555555556"
      ]
     },
     "execution_count": 89,
     "metadata": {},
     "output_type": "execute_result"
    }
   ],
   "source": [
    "constants.degree_Fahrenheit"
   ]
  },
  {
   "cell_type": "markdown",
   "id": "a72ad7f8",
   "metadata": {},
   "source": [
    "## Energy\n",
    "Return the specified unit in joules (e.g. calori e returns 4.18 4 )"
   ]
  },
  {
   "cell_type": "code",
   "execution_count": 90,
   "id": "15be5b72",
   "metadata": {},
   "outputs": [
    {
     "data": {
      "text/plain": [
       "1.602176634e-19"
      ]
     },
     "execution_count": 90,
     "metadata": {},
     "output_type": "execute_result"
    }
   ],
   "source": [
    "constants.eV"
   ]
  },
  {
   "cell_type": "code",
   "execution_count": 91,
   "id": "ac80db1f",
   "metadata": {},
   "outputs": [
    {
     "data": {
      "text/plain": [
       "1.602176634e-19"
      ]
     },
     "execution_count": 91,
     "metadata": {},
     "output_type": "execute_result"
    }
   ],
   "source": [
    "constants.electron_volt"
   ]
  },
  {
   "cell_type": "code",
   "execution_count": 92,
   "id": "91957498",
   "metadata": {},
   "outputs": [
    {
     "data": {
      "text/plain": [
       "4.184"
      ]
     },
     "execution_count": 92,
     "metadata": {},
     "output_type": "execute_result"
    }
   ],
   "source": [
    "constants.calorie"
   ]
  },
  {
   "cell_type": "code",
   "execution_count": 93,
   "id": "836d111a",
   "metadata": {},
   "outputs": [
    {
     "data": {
      "text/plain": [
       "4.184"
      ]
     },
     "execution_count": 93,
     "metadata": {},
     "output_type": "execute_result"
    }
   ],
   "source": [
    "constants.calorie_th"
   ]
  },
  {
   "cell_type": "code",
   "execution_count": 94,
   "id": "b5432e78",
   "metadata": {},
   "outputs": [
    {
     "data": {
      "text/plain": [
       "1e-07"
      ]
     },
     "execution_count": 94,
     "metadata": {},
     "output_type": "execute_result"
    }
   ],
   "source": [
    "constants.erg"
   ]
  },
  {
   "cell_type": "code",
   "execution_count": 95,
   "id": "170517ab",
   "metadata": {},
   "outputs": [
    {
     "data": {
      "text/plain": [
       "1055.05585262"
      ]
     },
     "execution_count": 95,
     "metadata": {},
     "output_type": "execute_result"
    }
   ],
   "source": [
    "constants.Btu"
   ]
  },
  {
   "cell_type": "code",
   "execution_count": 96,
   "id": "6f4f6024",
   "metadata": {},
   "outputs": [
    {
     "data": {
      "text/plain": [
       "1054.3502644888888"
      ]
     },
     "execution_count": 96,
     "metadata": {},
     "output_type": "execute_result"
    }
   ],
   "source": [
    "constants.Btu_th"
   ]
  },
  {
   "cell_type": "code",
   "execution_count": 97,
   "id": "16c0c5d5",
   "metadata": {},
   "outputs": [
    {
     "data": {
      "text/plain": [
       "1055.05585262"
      ]
     },
     "execution_count": 97,
     "metadata": {},
     "output_type": "execute_result"
    }
   ],
   "source": [
    "constants.Btu_IT"
   ]
  },
  {
   "cell_type": "code",
   "execution_count": 98,
   "id": "e616918a",
   "metadata": {},
   "outputs": [
    {
     "data": {
      "text/plain": [
       "4184000000.0"
      ]
     },
     "execution_count": 98,
     "metadata": {},
     "output_type": "execute_result"
    }
   ],
   "source": [
    "constants.ton_TNT"
   ]
  },
  {
   "cell_type": "markdown",
   "id": "66dc2b8e",
   "metadata": {},
   "source": [
    "## Power\n",
    "Return the specified unit in joules (e.g. calori e returns 4.18 4 )"
   ]
  },
  {
   "cell_type": "code",
   "execution_count": 99,
   "id": "91304e99",
   "metadata": {},
   "outputs": [
    {
     "data": {
      "text/plain": [
       "745.6998715822701"
      ]
     },
     "execution_count": 99,
     "metadata": {},
     "output_type": "execute_result"
    }
   ],
   "source": [
    "constants.hp"
   ]
  },
  {
   "cell_type": "code",
   "execution_count": 100,
   "id": "f1ce1aab",
   "metadata": {},
   "outputs": [
    {
     "data": {
      "text/plain": [
       "745.6998715822701"
      ]
     },
     "execution_count": 100,
     "metadata": {},
     "output_type": "execute_result"
    }
   ],
   "source": [
    "constants.horsepower"
   ]
  },
  {
   "cell_type": "markdown",
   "id": "f3497cf0",
   "metadata": {},
   "source": [
    "## Force\n",
    "Return the specified unit in newton (e.g. kilogram_forc e returns 9.80665)"
   ]
  },
  {
   "cell_type": "code",
   "execution_count": 101,
   "id": "7f30ea22",
   "metadata": {},
   "outputs": [
    {
     "data": {
      "text/plain": [
       "1e-05"
      ]
     },
     "execution_count": 101,
     "metadata": {},
     "output_type": "execute_result"
    }
   ],
   "source": [
    "constants.dyn"
   ]
  },
  {
   "cell_type": "code",
   "execution_count": 102,
   "id": "20ea63b3",
   "metadata": {},
   "outputs": [
    {
     "data": {
      "text/plain": [
       "1e-05"
      ]
     },
     "execution_count": 102,
     "metadata": {},
     "output_type": "execute_result"
    }
   ],
   "source": [
    "constants.dyne"
   ]
  },
  {
   "cell_type": "code",
   "execution_count": 103,
   "id": "d21ef34b",
   "metadata": {},
   "outputs": [
    {
     "data": {
      "text/plain": [
       "4.4482216152605"
      ]
     },
     "execution_count": 103,
     "metadata": {},
     "output_type": "execute_result"
    }
   ],
   "source": [
    "constants.lbf"
   ]
  },
  {
   "cell_type": "code",
   "execution_count": 104,
   "id": "337751d5",
   "metadata": {},
   "outputs": [
    {
     "data": {
      "text/plain": [
       "4.4482216152605"
      ]
     },
     "execution_count": 104,
     "metadata": {},
     "output_type": "execute_result"
    }
   ],
   "source": [
    "constants.pound_force"
   ]
  },
  {
   "cell_type": "code",
   "execution_count": 105,
   "id": "5d97c7d6",
   "metadata": {},
   "outputs": [
    {
     "data": {
      "text/plain": [
       "9.80665"
      ]
     },
     "execution_count": 105,
     "metadata": {},
     "output_type": "execute_result"
    }
   ],
   "source": [
    "constants.kgf"
   ]
  },
  {
   "cell_type": "code",
   "execution_count": 106,
   "id": "9f11133c",
   "metadata": {},
   "outputs": [
    {
     "data": {
      "text/plain": [
       "9.80665"
      ]
     },
     "execution_count": 106,
     "metadata": {},
     "output_type": "execute_result"
    }
   ],
   "source": [
    "constants.kilogram_force"
   ]
  },
  {
   "cell_type": "markdown",
   "id": "aa13890f",
   "metadata": {},
   "source": [
    "## Optimizers in SciPy"
   ]
  },
  {
   "cell_type": "markdown",
   "id": "486044c4",
   "metadata": {},
   "source": [
    "### Optimizing functions\n",
    "find the root of the equation x+cos(x)"
   ]
  },
  {
   "cell_type": "code",
   "execution_count": 107,
   "id": "58f5796c",
   "metadata": {},
   "outputs": [
    {
     "name": "stdout",
     "output_type": "stream",
     "text": [
      "[-0.73908513]\n"
     ]
    }
   ],
   "source": [
    "from scipy.optimize import root\n",
    "from math import cos\n",
    "def eqn(x):\n",
    "    return x+cos(x)\n",
    "myroot=root(eqn,0)\n",
    "print(myroot.x)"
   ]
  },
  {
   "cell_type": "code",
   "execution_count": 108,
   "id": "ff428cad",
   "metadata": {},
   "outputs": [
    {
     "name": "stdout",
     "output_type": "stream",
     "text": [
      "    fjac: array([[-1.]])\n",
      "     fun: array([0.])\n",
      " message: 'The solution converged.'\n",
      "    nfev: 9\n",
      "     qtf: array([-2.66786593e-13])\n",
      "       r: array([-1.67361202])\n",
      "  status: 1\n",
      " success: True\n",
      "       x: array([-0.73908513])\n"
     ]
    }
   ],
   "source": [
    "print(myroot)"
   ]
  },
  {
   "cell_type": "markdown",
   "id": "8956a463",
   "metadata": {},
   "source": [
    "## SciPy statistical significance tests"
   ]
  },
  {
   "cell_type": "markdown",
   "id": "1e7ad5b1",
   "metadata": {},
   "source": [
    "### T-test"
   ]
  },
  {
   "cell_type": "code",
   "execution_count": 109,
   "id": "13a6e561",
   "metadata": {},
   "outputs": [
    {
     "name": "stdout",
     "output_type": "stream",
     "text": [
      "Ttest_indResult(statistic=-0.04429725564172715, pvalue=0.9647121008982347)\n"
     ]
    }
   ],
   "source": [
    "from scipy.stats import ttest_ind\n",
    "v1=np.random.normal(size=100)\n",
    "v2=np.random.normal(size=100)\n",
    "res=ttest_ind(v1,v2)\n",
    "print(res)"
   ]
  },
  {
   "cell_type": "markdown",
   "id": "33bef92f",
   "metadata": {},
   "source": [
    "### For displaying only p-value;"
   ]
  },
  {
   "cell_type": "code",
   "execution_count": 110,
   "id": "f7eef53a",
   "metadata": {},
   "outputs": [
    {
     "name": "stdout",
     "output_type": "stream",
     "text": [
      "0.9647121008982347\n"
     ]
    }
   ],
   "source": [
    "res = ttest_ind(v1, v2).pvalue\n",
    "print (res)"
   ]
  },
  {
   "cell_type": "markdown",
   "id": "996ce778",
   "metadata": {},
   "source": [
    "### KS Test (One Sample Kolmogorov Smirnov)"
   ]
  },
  {
   "cell_type": "code",
   "execution_count": 111,
   "id": "a02908da",
   "metadata": {},
   "outputs": [
    {
     "name": "stdout",
     "output_type": "stream",
     "text": [
      "KstestResult(statistic=0.24292748010888998, pvalue=1.1116205327426523e-05)\n"
     ]
    }
   ],
   "source": [
    "from scipy.stats import kstest\n",
    "v = np.random.normal(size=100 )\n",
    "res = kstest(v, 'norm' )\n",
    "print (res)"
   ]
  },
  {
   "cell_type": "markdown",
   "id": "67de4b1b",
   "metadata": {},
   "source": [
    "### Statistical Description of Data"
   ]
  },
  {
   "cell_type": "code",
   "execution_count": 112,
   "id": "ad2fb67f",
   "metadata": {},
   "outputs": [
    {
     "name": "stdout",
     "output_type": "stream",
     "text": [
      "DescribeResult(nobs=100, minmax=(-2.561966375111785, 2.7016273884455817), mean=0.009234847802892661, variance=1.097992818815186, skewness=0.07897967999746042, kurtosis=-0.11022626558658333)\n"
     ]
    }
   ],
   "source": [
    "from scipy.stats import describe\n",
    "v = np.random.normal(size=100 )\n",
    "res = describe(v)\n",
    "print (res)"
   ]
  },
  {
   "cell_type": "markdown",
   "id": "1017c9b9",
   "metadata": {},
   "source": [
    "\n",
    "### Normality Tests (Skewness and Kurtosis)"
   ]
  },
  {
   "cell_type": "code",
   "execution_count": null,
   "id": "72d194b7",
   "metadata": {},
   "outputs": [],
   "source": []
  }
 ],
 "metadata": {
  "kernelspec": {
   "display_name": "Python 3 (ipykernel)",
   "language": "python",
   "name": "python3"
  },
  "language_info": {
   "codemirror_mode": {
    "name": "ipython",
    "version": 3
   },
   "file_extension": ".py",
   "mimetype": "text/x-python",
   "name": "python",
   "nbconvert_exporter": "python",
   "pygments_lexer": "ipython3",
   "version": "3.9.13"
  }
 },
 "nbformat": 4,
 "nbformat_minor": 5
}
