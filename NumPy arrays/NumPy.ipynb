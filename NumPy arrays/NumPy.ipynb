{
 "cells": [
  {
   "cell_type": "markdown",
   "id": "b48e52a1",
   "metadata": {},
   "source": [
    "# NumPy"
   ]
  },
  {
   "cell_type": "code",
   "execution_count": 1,
   "id": "4856a99e",
   "metadata": {},
   "outputs": [],
   "source": [
    "import numpy as np"
   ]
  },
  {
   "cell_type": "markdown",
   "id": "12d4c194",
   "metadata": {},
   "source": [
    "### 1-D array"
   ]
  },
  {
   "cell_type": "code",
   "execution_count": 2,
   "id": "debf1d80",
   "metadata": {},
   "outputs": [],
   "source": [
    "a=np.array([12,20,30,40])"
   ]
  },
  {
   "cell_type": "markdown",
   "id": "1f6ce145",
   "metadata": {},
   "source": [
    "#### Attributes of arrays"
   ]
  },
  {
   "cell_type": "code",
   "execution_count": 3,
   "id": "0d008160",
   "metadata": {},
   "outputs": [
    {
     "data": {
      "text/plain": [
       "dtype('int32')"
      ]
     },
     "execution_count": 3,
     "metadata": {},
     "output_type": "execute_result"
    }
   ],
   "source": [
    "a.dtype"
   ]
  },
  {
   "cell_type": "code",
   "execution_count": 4,
   "id": "86d53573",
   "metadata": {},
   "outputs": [
    {
     "data": {
      "text/plain": [
       "(4,)"
      ]
     },
     "execution_count": 4,
     "metadata": {},
     "output_type": "execute_result"
    }
   ],
   "source": [
    "a.shape"
   ]
  },
  {
   "cell_type": "code",
   "execution_count": 5,
   "id": "0a4b58da",
   "metadata": {},
   "outputs": [
    {
     "data": {
      "text/plain": [
       "1"
      ]
     },
     "execution_count": 5,
     "metadata": {},
     "output_type": "execute_result"
    }
   ],
   "source": [
    "a.ndim"
   ]
  },
  {
   "cell_type": "code",
   "execution_count": 6,
   "id": "6a15c819",
   "metadata": {},
   "outputs": [
    {
     "data": {
      "text/plain": [
       "4"
      ]
     },
     "execution_count": 6,
     "metadata": {},
     "output_type": "execute_result"
    }
   ],
   "source": [
    "a.size"
   ]
  },
  {
   "cell_type": "code",
   "execution_count": 7,
   "id": "7f0d1762",
   "metadata": {},
   "outputs": [
    {
     "data": {
      "text/plain": [
       "40"
      ]
     },
     "execution_count": 7,
     "metadata": {},
     "output_type": "execute_result"
    }
   ],
   "source": [
    "a[3]"
   ]
  },
  {
   "cell_type": "code",
   "execution_count": 8,
   "id": "a4e797e7",
   "metadata": {},
   "outputs": [
    {
     "data": {
      "text/plain": [
       "20"
      ]
     },
     "execution_count": 8,
     "metadata": {},
     "output_type": "execute_result"
    }
   ],
   "source": [
    "a[1]"
   ]
  },
  {
   "cell_type": "code",
   "execution_count": 9,
   "id": "0f1d6aa5",
   "metadata": {},
   "outputs": [
    {
     "data": {
      "text/plain": [
       "12"
      ]
     },
     "execution_count": 9,
     "metadata": {},
     "output_type": "execute_result"
    }
   ],
   "source": [
    "a[0]"
   ]
  },
  {
   "cell_type": "code",
   "execution_count": 10,
   "id": "48b62b53",
   "metadata": {},
   "outputs": [
    {
     "data": {
      "text/plain": [
       "array([12, 20])"
      ]
     },
     "execution_count": 10,
     "metadata": {},
     "output_type": "execute_result"
    }
   ],
   "source": [
    "a[0:2]"
   ]
  },
  {
   "cell_type": "markdown",
   "id": "ecec3724",
   "metadata": {},
   "source": [
    "### Multi dimensional Array"
   ]
  },
  {
   "cell_type": "code",
   "execution_count": 11,
   "id": "95061805",
   "metadata": {},
   "outputs": [],
   "source": [
    "b=np.array([[1,2,3,4,5,6]])"
   ]
  },
  {
   "cell_type": "code",
   "execution_count": 12,
   "id": "77359ecf",
   "metadata": {},
   "outputs": [
    {
     "data": {
      "text/plain": [
       "array([[1, 2, 3, 4, 5, 6]])"
      ]
     },
     "execution_count": 12,
     "metadata": {},
     "output_type": "execute_result"
    }
   ],
   "source": [
    "b"
   ]
  },
  {
   "cell_type": "code",
   "execution_count": 14,
   "id": "5f733cd6",
   "metadata": {},
   "outputs": [],
   "source": [
    "c=np.array([\n",
    "    [1,2,3,4],\n",
    "    [5,6,7,8],\n",
    "    [8,5,6,2]])"
   ]
  },
  {
   "cell_type": "code",
   "execution_count": 15,
   "id": "6447d32c",
   "metadata": {},
   "outputs": [
    {
     "data": {
      "text/plain": [
       "array([[1, 2, 3, 4],\n",
       "       [5, 6, 7, 8],\n",
       "       [8, 5, 6, 2]])"
      ]
     },
     "execution_count": 15,
     "metadata": {},
     "output_type": "execute_result"
    }
   ],
   "source": [
    "c"
   ]
  },
  {
   "cell_type": "code",
   "execution_count": 16,
   "id": "2b538fb2",
   "metadata": {},
   "outputs": [
    {
     "data": {
      "text/plain": [
       "(1, 6)"
      ]
     },
     "execution_count": 16,
     "metadata": {},
     "output_type": "execute_result"
    }
   ],
   "source": [
    "b.shape"
   ]
  },
  {
   "cell_type": "code",
   "execution_count": 17,
   "id": "3fc5b164",
   "metadata": {},
   "outputs": [
    {
     "data": {
      "text/plain": [
       "(3, 4)"
      ]
     },
     "execution_count": 17,
     "metadata": {},
     "output_type": "execute_result"
    }
   ],
   "source": [
    "c.shape"
   ]
  },
  {
   "cell_type": "code",
   "execution_count": 18,
   "id": "cfaa08d4",
   "metadata": {},
   "outputs": [
    {
     "data": {
      "text/plain": [
       "2"
      ]
     },
     "execution_count": 18,
     "metadata": {},
     "output_type": "execute_result"
    }
   ],
   "source": [
    "b.ndim"
   ]
  },
  {
   "cell_type": "code",
   "execution_count": 19,
   "id": "67372d6c",
   "metadata": {},
   "outputs": [
    {
     "data": {
      "text/plain": [
       "2"
      ]
     },
     "execution_count": 19,
     "metadata": {},
     "output_type": "execute_result"
    }
   ],
   "source": [
    "c.ndim"
   ]
  },
  {
   "cell_type": "code",
   "execution_count": 20,
   "id": "aa7a8927",
   "metadata": {},
   "outputs": [
    {
     "data": {
      "text/plain": [
       "array([1, 2, 3, 4, 5, 6])"
      ]
     },
     "execution_count": 20,
     "metadata": {},
     "output_type": "execute_result"
    }
   ],
   "source": [
    "b[0]"
   ]
  },
  {
   "cell_type": "code",
   "execution_count": 22,
   "id": "1160f02e",
   "metadata": {},
   "outputs": [
    {
     "data": {
      "text/plain": [
       "array([8, 5, 6, 2])"
      ]
     },
     "execution_count": 22,
     "metadata": {},
     "output_type": "execute_result"
    }
   ],
   "source": [
    "c[2]"
   ]
  },
  {
   "cell_type": "code",
   "execution_count": 23,
   "id": "e2fe3807",
   "metadata": {},
   "outputs": [
    {
     "data": {
      "text/plain": [
       "6"
      ]
     },
     "execution_count": 23,
     "metadata": {},
     "output_type": "execute_result"
    }
   ],
   "source": [
    "b.size"
   ]
  },
  {
   "cell_type": "code",
   "execution_count": 29,
   "id": "9ee7253a",
   "metadata": {},
   "outputs": [
    {
     "data": {
      "text/plain": [
       "12"
      ]
     },
     "execution_count": 29,
     "metadata": {},
     "output_type": "execute_result"
    }
   ],
   "source": [
    "c.size"
   ]
  },
  {
   "cell_type": "markdown",
   "id": "882ce868",
   "metadata": {},
   "source": [
    "#### First element in first array"
   ]
  },
  {
   "cell_type": "code",
   "execution_count": 30,
   "id": "ae17f8db",
   "metadata": {},
   "outputs": [
    {
     "data": {
      "text/plain": [
       "1"
      ]
     },
     "execution_count": 30,
     "metadata": {},
     "output_type": "execute_result"
    }
   ],
   "source": [
    "c[0][0]"
   ]
  },
  {
   "cell_type": "code",
   "execution_count": 31,
   "id": "02d92fc4",
   "metadata": {},
   "outputs": [
    {
     "data": {
      "text/plain": [
       "8"
      ]
     },
     "execution_count": 31,
     "metadata": {},
     "output_type": "execute_result"
    }
   ],
   "source": [
    "c[1][3]"
   ]
  },
  {
   "cell_type": "code",
   "execution_count": 32,
   "id": "b81de9b4",
   "metadata": {},
   "outputs": [
    {
     "data": {
      "text/plain": [
       "2"
      ]
     },
     "execution_count": 32,
     "metadata": {},
     "output_type": "execute_result"
    }
   ],
   "source": [
    "c[2][3]"
   ]
  },
  {
   "cell_type": "code",
   "execution_count": 35,
   "id": "97cb3485",
   "metadata": {},
   "outputs": [
    {
     "data": {
      "text/plain": [
       "6"
      ]
     },
     "execution_count": 35,
     "metadata": {},
     "output_type": "execute_result"
    }
   ],
   "source": [
    "c[1][1]"
   ]
  },
  {
   "cell_type": "markdown",
   "id": "bdf4d902",
   "metadata": {},
   "source": [
    "#### Change the dtype"
   ]
  },
  {
   "cell_type": "code",
   "execution_count": 36,
   "id": "1843e395",
   "metadata": {},
   "outputs": [],
   "source": [
    "c=np.array([\n",
    "    [1,2,3,4],\n",
    "    [5,6,7,8],\n",
    "    [8,5,6,2]],dtype=float)"
   ]
  },
  {
   "cell_type": "code",
   "execution_count": 37,
   "id": "778ec487",
   "metadata": {},
   "outputs": [
    {
     "data": {
      "text/plain": [
       "array([[1., 2., 3., 4.],\n",
       "       [5., 6., 7., 8.],\n",
       "       [8., 5., 6., 2.]])"
      ]
     },
     "execution_count": 37,
     "metadata": {},
     "output_type": "execute_result"
    }
   ],
   "source": [
    "c"
   ]
  },
  {
   "cell_type": "markdown",
   "id": "c320f4f4",
   "metadata": {},
   "source": [
    "### Another type of multi-dimensional array"
   ]
  },
  {
   "cell_type": "code",
   "execution_count": 25,
   "id": "e550d7d6",
   "metadata": {},
   "outputs": [],
   "source": [
    "d = np.array([[[[1,2,3,4]]]])"
   ]
  },
  {
   "cell_type": "code",
   "execution_count": 26,
   "id": "7db057d5",
   "metadata": {},
   "outputs": [
    {
     "data": {
      "text/plain": [
       "array([[[[1, 2, 3, 4]]]])"
      ]
     },
     "execution_count": 26,
     "metadata": {},
     "output_type": "execute_result"
    }
   ],
   "source": [
    "d"
   ]
  },
  {
   "cell_type": "code",
   "execution_count": 27,
   "id": "a44093f7",
   "metadata": {},
   "outputs": [
    {
     "data": {
      "text/plain": [
       "(1, 1, 1, 4)"
      ]
     },
     "execution_count": 27,
     "metadata": {},
     "output_type": "execute_result"
    }
   ],
   "source": [
    "d.shape"
   ]
  },
  {
   "cell_type": "code",
   "execution_count": 28,
   "id": "0eac4ba7",
   "metadata": {},
   "outputs": [
    {
     "data": {
      "text/plain": [
       "4"
      ]
     },
     "execution_count": 28,
     "metadata": {},
     "output_type": "execute_result"
    }
   ],
   "source": [
    "d.ndim"
   ]
  },
  {
   "cell_type": "markdown",
   "id": "29ed4987",
   "metadata": {},
   "source": [
    "### Creating bigger arrays"
   ]
  },
  {
   "cell_type": "code",
   "execution_count": 38,
   "id": "40285a76",
   "metadata": {},
   "outputs": [],
   "source": [
    "a_big=np.array([\n",
    "    [\n",
    "        [1,2,3,4],[4,5,6,7],[8,4,3,2]\n",
    "    ],\n",
    "    [\n",
    "        [2,34,4,5],[7,8,32,5],[0,9,1,2]\n",
    "    ],\n",
    "    [\n",
    "        [9,6,0,43],[7,9,24,5],[21,7,4,5]\n",
    "    ]\n",
    "\n",
    "],dtype=float)"
   ]
  },
  {
   "cell_type": "code",
   "execution_count": 39,
   "id": "71831fab",
   "metadata": {},
   "outputs": [
    {
     "data": {
      "text/plain": [
       "array([[[ 1.,  2.,  3.,  4.],\n",
       "        [ 4.,  5.,  6.,  7.],\n",
       "        [ 8.,  4.,  3.,  2.]],\n",
       "\n",
       "       [[ 2., 34.,  4.,  5.],\n",
       "        [ 7.,  8., 32.,  5.],\n",
       "        [ 0.,  9.,  1.,  2.]],\n",
       "\n",
       "       [[ 9.,  6.,  0., 43.],\n",
       "        [ 7.,  9., 24.,  5.],\n",
       "        [21.,  7.,  4.,  5.]]])"
      ]
     },
     "execution_count": 39,
     "metadata": {},
     "output_type": "execute_result"
    }
   ],
   "source": [
    "a_big"
   ]
  },
  {
   "cell_type": "markdown",
   "id": "66629f60",
   "metadata": {},
   "source": [
    "### Filling arrays"
   ]
  },
  {
   "cell_type": "code",
   "execution_count": 42,
   "id": "f3e2cf7a",
   "metadata": {},
   "outputs": [],
   "source": [
    "a=np.full((3,3,3),8)"
   ]
  },
  {
   "cell_type": "code",
   "execution_count": 45,
   "id": "1d5fe45b",
   "metadata": {},
   "outputs": [
    {
     "data": {
      "text/plain": [
       "3"
      ]
     },
     "execution_count": 45,
     "metadata": {},
     "output_type": "execute_result"
    }
   ],
   "source": [
    "a\n",
    "a.ndim"
   ]
  },
  {
   "cell_type": "code",
   "execution_count": 46,
   "id": "ec3bb727",
   "metadata": {},
   "outputs": [
    {
     "data": {
      "text/plain": [
       "array([[0., 0., 0., 0., 0.],\n",
       "       [0., 0., 0., 0., 0.],\n",
       "       [0., 0., 0., 0., 0.],\n",
       "       [0., 0., 0., 0., 0.]])"
      ]
     },
     "execution_count": 46,
     "metadata": {},
     "output_type": "execute_result"
    }
   ],
   "source": [
    "b=np.zeros((4,5))\n",
    "b"
   ]
  },
  {
   "cell_type": "code",
   "execution_count": 48,
   "id": "d3b6ae90",
   "metadata": {},
   "outputs": [
    {
     "data": {
      "text/plain": [
       "2"
      ]
     },
     "execution_count": 48,
     "metadata": {},
     "output_type": "execute_result"
    }
   ],
   "source": [
    "b.ndim"
   ]
  },
  {
   "cell_type": "code",
   "execution_count": 50,
   "id": "03853328",
   "metadata": {},
   "outputs": [
    {
     "data": {
      "text/plain": [
       "array([[ 7.45871124e-312,  1.01283457e-321,  0.00000000e+000,\n",
       "         0.00000000e+000,  1.33511018e-306],\n",
       "       [ 1.16097020e-028,  1.26087994e-076,  3.17927163e-028,\n",
       "         1.57009988e-076,  1.04917183e-153],\n",
       "       [ 5.23081515e-143,  1.18833786e-075,  2.34253625e-056,\n",
       "         1.68920024e-051,  1.79109569e+160],\n",
       "       [-1.69336965e-310,  5.49109388e-143,  1.06396443e+224,\n",
       "         3.96041428e+246,  1.16318408e-028],\n",
       "       [ 2.57751694e-056,  2.12985429e-052,  9.77019534e+165,\n",
       "         8.60430245e-043,  1.01848862e+248],\n",
       "       [ 1.16096643e-028,  9.80058441e+252,  7.50189709e+247,\n",
       "         1.14484251e+243,  2.59903827e-144]])"
      ]
     },
     "execution_count": 50,
     "metadata": {},
     "output_type": "execute_result"
    }
   ],
   "source": [
    "c=np.empty((6,5))\n",
    "c"
   ]
  },
  {
   "cell_type": "code",
   "execution_count": 52,
   "id": "0e8b1247",
   "metadata": {},
   "outputs": [
    {
     "data": {
      "text/plain": [
       "array([[0.11071476, 0.71605436, 0.03094464],\n",
       "       [0.22606841, 0.64329395, 0.17375886],\n",
       "       [0.51499926, 0.65614894, 0.79720489],\n",
       "       [0.80332029, 0.79670923, 0.92356099]])"
      ]
     },
     "execution_count": 52,
     "metadata": {},
     "output_type": "execute_result"
    }
   ],
   "source": [
    "d=np.random.random((4,3))\n",
    "d"
   ]
  },
  {
   "cell_type": "code",
   "execution_count": 53,
   "id": "a92d45db",
   "metadata": {},
   "outputs": [
    {
     "data": {
      "text/plain": [
       "2"
      ]
     },
     "execution_count": 53,
     "metadata": {},
     "output_type": "execute_result"
    }
   ],
   "source": [
    "d.ndim"
   ]
  },
  {
   "cell_type": "code",
   "execution_count": 54,
   "id": "f527657e",
   "metadata": {},
   "outputs": [
    {
     "data": {
      "text/plain": [
       "2"
      ]
     },
     "execution_count": 54,
     "metadata": {},
     "output_type": "execute_result"
    }
   ],
   "source": [
    "b.ndim"
   ]
  },
  {
   "cell_type": "code",
   "execution_count": 55,
   "id": "89a536f0",
   "metadata": {},
   "outputs": [
    {
     "data": {
      "text/plain": [
       "3"
      ]
     },
     "execution_count": 55,
     "metadata": {},
     "output_type": "execute_result"
    }
   ],
   "source": [
    "a.ndim"
   ]
  },
  {
   "cell_type": "code",
   "execution_count": 56,
   "id": "25189193",
   "metadata": {},
   "outputs": [
    {
     "data": {
      "text/plain": [
       "array([ 5, 25, 45, 65, 85])"
      ]
     },
     "execution_count": 56,
     "metadata": {},
     "output_type": "execute_result"
    }
   ],
   "source": [
    "a_arange=np.arange(5,100,20)\n",
    "a_arange"
   ]
  },
  {
   "cell_type": "code",
   "execution_count": 57,
   "id": "d25d3526",
   "metadata": {},
   "outputs": [
    {
     "data": {
      "text/plain": [
       "array([ 2., 30.])"
      ]
     },
     "execution_count": 57,
     "metadata": {},
     "output_type": "execute_result"
    }
   ],
   "source": [
    "b_linspace=np.linspace(2,30,2)\n",
    "b_linspace"
   ]
  },
  {
   "cell_type": "code",
   "execution_count": 59,
   "id": "acef161d",
   "metadata": {},
   "outputs": [
    {
     "data": {
      "text/plain": [
       "array([  1.,  12.,  23.,  34.,  45.,  56.,  67.,  78.,  89., 100.])"
      ]
     },
     "execution_count": 59,
     "metadata": {},
     "output_type": "execute_result"
    }
   ],
   "source": [
    "c_lin=np.linspace(1,100,10)\n",
    "c_lin"
   ]
  },
  {
   "cell_type": "code",
   "execution_count": 60,
   "id": "7e55118c",
   "metadata": {},
   "outputs": [
    {
     "data": {
      "text/plain": [
       "1"
      ]
     },
     "execution_count": 60,
     "metadata": {},
     "output_type": "execute_result"
    }
   ],
   "source": [
    "c_lin.ndim"
   ]
  },
  {
   "cell_type": "code",
   "execution_count": 62,
   "id": "d74dc568",
   "metadata": {},
   "outputs": [
    {
     "data": {
      "text/plain": [
       "array([  0,   7,  14,  21,  28,  35,  42,  50,  57,  64,  71,  78,  85,\n",
       "        92, 100])"
      ]
     },
     "execution_count": 62,
     "metadata": {},
     "output_type": "execute_result"
    }
   ],
   "source": [
    "d_lin=np.linspace(0,100,15,dtype=int)\n",
    "d_lin"
   ]
  },
  {
   "cell_type": "code",
   "execution_count": 64,
   "id": "ae1a17a8",
   "metadata": {},
   "outputs": [
    {
     "data": {
      "text/plain": [
       "array([[[2980.95798704, 2980.95798704, 2980.95798704],\n",
       "        [2980.95798704, 2980.95798704, 2980.95798704],\n",
       "        [2980.95798704, 2980.95798704, 2980.95798704]],\n",
       "\n",
       "       [[2980.95798704, 2980.95798704, 2980.95798704],\n",
       "        [2980.95798704, 2980.95798704, 2980.95798704],\n",
       "        [2980.95798704, 2980.95798704, 2980.95798704]],\n",
       "\n",
       "       [[2980.95798704, 2980.95798704, 2980.95798704],\n",
       "        [2980.95798704, 2980.95798704, 2980.95798704],\n",
       "        [2980.95798704, 2980.95798704, 2980.95798704]]])"
      ]
     },
     "execution_count": 64,
     "metadata": {},
     "output_type": "execute_result"
    }
   ],
   "source": [
    "d_lin=np.exp(a)\n",
    "d_lin"
   ]
  },
  {
   "cell_type": "code",
   "execution_count": 68,
   "id": "b0df030d",
   "metadata": {},
   "outputs": [
    {
     "data": {
      "text/plain": [
       "array([[1, 2, 3, 4],\n",
       "       [5, 6, 7, 8],\n",
       "       [8, 5, 6, 2]])"
      ]
     },
     "execution_count": 68,
     "metadata": {},
     "output_type": "execute_result"
    }
   ],
   "source": [
    "c=np.array([\n",
    "    [1,2,3,4],\n",
    "    [5,6,7,8],\n",
    "    [8,5,6,2]],dtype=int)\n",
    "c"
   ]
  },
  {
   "cell_type": "code",
   "execution_count": 69,
   "id": "ad352147",
   "metadata": {},
   "outputs": [
    {
     "data": {
      "text/plain": [
       "array([[2.71828183e+00, 7.38905610e+00, 2.00855369e+01, 5.45981500e+01],\n",
       "       [1.48413159e+02, 4.03428793e+02, 1.09663316e+03, 2.98095799e+03],\n",
       "       [2.98095799e+03, 1.48413159e+02, 4.03428793e+02, 7.38905610e+00]])"
      ]
     },
     "execution_count": 69,
     "metadata": {},
     "output_type": "execute_result"
    }
   ],
   "source": [
    "c=np.exp(c)\n",
    "c"
   ]
  },
  {
   "cell_type": "code",
   "execution_count": 70,
   "id": "92e8f42a",
   "metadata": {},
   "outputs": [
    {
     "data": {
      "text/plain": [
       "array([[ 0.41078129,  0.89385495,  0.94447101, -0.92876794],\n",
       "       [-0.68769141,  0.96486625, -0.21561571,  0.40176297],\n",
       "       [ 0.40176297, -0.68769141,  0.96486625,  0.89385495]])"
      ]
     },
     "execution_count": 70,
     "metadata": {},
     "output_type": "execute_result"
    }
   ],
   "source": [
    "c=np.sin(c)\n",
    "c"
   ]
  },
  {
   "cell_type": "code",
   "execution_count": 72,
   "id": "42a30676",
   "metadata": {},
   "outputs": [
    {
     "data": {
      "text/plain": [
       "array([[0.91680911, 0.62641178, 0.58617154, 0.59882118],\n",
       "       [0.77271346, 0.56952682, 0.97684485, 0.92037303],\n",
       "       [0.92037303, 0.77271346, 0.56952682, 0.62641178]])"
      ]
     },
     "execution_count": 72,
     "metadata": {},
     "output_type": "execute_result"
    }
   ],
   "source": [
    "c=np.cos(c)\n",
    "\n",
    "c"
   ]
  },
  {
   "cell_type": "code",
   "execution_count": 73,
   "id": "6f671767",
   "metadata": {},
   "outputs": [
    {
     "data": {
      "text/plain": [
       "array([[1.30460586, 0.7236333 , 0.66402502, 0.68240764],\n",
       "       [0.97494704, 0.64030118, 1.48083693, 1.31428058],\n",
       "       [1.31428058, 0.97494704, 0.64030118, 0.7236333 ]])"
      ]
     },
     "execution_count": 73,
     "metadata": {},
     "output_type": "execute_result"
    }
   ],
   "source": [
    "c=np.tan(c)\n",
    "c"
   ]
  },
  {
   "cell_type": "code",
   "execution_count": 74,
   "id": "9a1b0fc6",
   "metadata": {},
   "outputs": [
    {
     "data": {
      "text/plain": [
       "array([[ 0.26590098, -0.32347051, -0.40943545, -0.38212809],\n",
       "       [-0.02537213, -0.44581663,  0.39260742,  0.27328943],\n",
       "       [ 0.27328943, -0.02537213, -0.44581663, -0.32347051]])"
      ]
     },
     "execution_count": 74,
     "metadata": {},
     "output_type": "execute_result"
    }
   ],
   "source": [
    "c=np.log(c)\n",
    "c"
   ]
  },
  {
   "cell_type": "code",
   "execution_count": 76,
   "id": "e1ad4d1f",
   "metadata": {},
   "outputs": [
    {
     "data": {
      "text/plain": [
       "array([[1, 2, 3, 4],\n",
       "       [5, 6, 7, 8],\n",
       "       [8, 5, 6, 2]])"
      ]
     },
     "execution_count": 76,
     "metadata": {},
     "output_type": "execute_result"
    }
   ],
   "source": [
    "d=np.array([\n",
    "    [1,2,3,4],\n",
    "    [5,6,7,8],\n",
    "    [8,5,6,2]],dtype=int)\n",
    "d"
   ]
  },
  {
   "cell_type": "code",
   "execution_count": 77,
   "id": "1b11af81",
   "metadata": {},
   "outputs": [
    {
     "data": {
      "text/plain": [
       "array([[1.        , 1.41421356, 1.73205081, 2.        ],\n",
       "       [2.23606798, 2.44948974, 2.64575131, 2.82842712],\n",
       "       [2.82842712, 2.23606798, 2.44948974, 1.41421356]])"
      ]
     },
     "execution_count": 77,
     "metadata": {},
     "output_type": "execute_result"
    }
   ],
   "source": [
    "d=np.sqrt(d)\n",
    "d\n"
   ]
  },
  {
   "cell_type": "code",
   "execution_count": 78,
   "id": "413e08f4",
   "metadata": {},
   "outputs": [
    {
     "data": {
      "text/plain": [
       "array([[1, 2, 3, 4],\n",
       "       [5, 6, 7, 8],\n",
       "       [8, 5, 6, 2]])"
      ]
     },
     "execution_count": 78,
     "metadata": {},
     "output_type": "execute_result"
    }
   ],
   "source": [
    "b=np.array([\n",
    "    [1,2,3,4],\n",
    "    [5,6,7,8],\n",
    "    [8,5,6,2]],dtype=int)\n",
    "b"
   ]
  },
  {
   "cell_type": "code",
   "execution_count": 79,
   "id": "1b1cbe74",
   "metadata": {},
   "outputs": [
    {
     "data": {
      "text/plain": [
       "57"
      ]
     },
     "execution_count": 79,
     "metadata": {},
     "output_type": "execute_result"
    }
   ],
   "source": [
    "b.sum()"
   ]
  },
  {
   "cell_type": "code",
   "execution_count": 80,
   "id": "a571f2e2",
   "metadata": {},
   "outputs": [
    {
     "data": {
      "text/plain": [
       "1"
      ]
     },
     "execution_count": 80,
     "metadata": {},
     "output_type": "execute_result"
    }
   ],
   "source": [
    "b.min()"
   ]
  },
  {
   "cell_type": "code",
   "execution_count": 81,
   "id": "e03dc6b0",
   "metadata": {},
   "outputs": [
    {
     "data": {
      "text/plain": [
       "8"
      ]
     },
     "execution_count": 81,
     "metadata": {},
     "output_type": "execute_result"
    }
   ],
   "source": [
    "b.max()"
   ]
  },
  {
   "cell_type": "code",
   "execution_count": 82,
   "id": "2f33ce30",
   "metadata": {},
   "outputs": [
    {
     "data": {
      "text/plain": [
       "4.75"
      ]
     },
     "execution_count": 82,
     "metadata": {},
     "output_type": "execute_result"
    }
   ],
   "source": [
    "b.mean()"
   ]
  },
  {
   "cell_type": "code",
   "execution_count": 87,
   "id": "d0cb5354",
   "metadata": {},
   "outputs": [
    {
     "data": {
      "text/plain": [
       "5.0"
      ]
     },
     "execution_count": 87,
     "metadata": {},
     "output_type": "execute_result"
    }
   ],
   "source": [
    "np.median(b)"
   ]
  },
  {
   "cell_type": "code",
   "execution_count": 88,
   "id": "9c9a2dbb",
   "metadata": {},
   "outputs": [
    {
     "data": {
      "text/plain": [
       "2.277608394786075"
      ]
     },
     "execution_count": 88,
     "metadata": {},
     "output_type": "execute_result"
    }
   ],
   "source": [
    "np.std(b)"
   ]
  },
  {
   "cell_type": "code",
   "execution_count": null,
   "id": "6a4e8e6a",
   "metadata": {},
   "outputs": [],
   "source": []
  }
 ],
 "metadata": {
  "kernelspec": {
   "display_name": "Python 3 (ipykernel)",
   "language": "python",
   "name": "python3"
  },
  "language_info": {
   "codemirror_mode": {
    "name": "ipython",
    "version": 3
   },
   "file_extension": ".py",
   "mimetype": "text/x-python",
   "name": "python",
   "nbconvert_exporter": "python",
   "pygments_lexer": "ipython3",
   "version": "3.9.13"
  }
 },
 "nbformat": 4,
 "nbformat_minor": 5
}
